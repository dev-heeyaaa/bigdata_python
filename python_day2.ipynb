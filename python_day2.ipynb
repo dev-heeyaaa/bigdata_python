{
 "cells": [
  {
   "cell_type": "code",
   "execution_count": 2,
   "id": "5661bddb",
   "metadata": {},
   "outputs": [
    {
     "name": "stdout",
     "output_type": "stream",
     "text": [
      "<class 'list'>\n",
      "[1, 2, 3, 4, 5, 6, 7, 8]\n",
      "3\n",
      "[1, 2, 3, 4]\n",
      "[1, 2, 3, 4]\n",
      "2 3 4 5 6 7 8 9 "
     ]
    }
   ],
   "source": [
    "# 리스트 생성\n",
    "a = 1\n",
    "b = 2\n",
    "c = 3\n",
    "\n",
    "d = [1, 2, 3, 4, 5, 6, 7, 8]\n",
    "#    0,  1,  2,  3,  4,  5,  6,  7\n",
    "#   -8.-7, -6, -5, -4, -3, -2. -1 \n",
    "print(type(d))\n",
    "print(d)\n",
    "print(d[2])   # 인덱스 0부터 시작\n",
    "print(d[0:4]) # 0부터 4까지\n",
    "print(d[:-4]) # 처음부터 -4\n",
    "\n",
    "for i in d :\n",
    "    print(i+1, end=' ')"
   ]
  },
  {
   "cell_type": "code",
   "execution_count": 3,
   "id": "150224bb",
   "metadata": {},
   "outputs": [
    {
     "name": "stdout",
     "output_type": "stream",
     "text": [
      "3 6 "
     ]
    }
   ],
   "source": [
    "for i in d :\n",
    "    if i % 3 == 0 :\n",
    "        print(i, end = ' ')"
   ]
  },
  {
   "cell_type": "code",
   "execution_count": 7,
   "id": "5d36a2f4",
   "metadata": {},
   "outputs": [],
   "source": [
    "a = list(range(1, 101))"
   ]
  },
  {
   "cell_type": "code",
   "execution_count": 6,
   "id": "a777637d",
   "metadata": {
    "scrolled": true
   },
   "outputs": [
    {
     "data": {
      "text/plain": [
       "[1,\n",
       " 2,\n",
       " 3,\n",
       " 4,\n",
       " 5,\n",
       " 6,\n",
       " 7,\n",
       " 8,\n",
       " 9,\n",
       " 10,\n",
       " 11,\n",
       " 12,\n",
       " 13,\n",
       " 14,\n",
       " 15,\n",
       " 16,\n",
       " 17,\n",
       " 18,\n",
       " 19,\n",
       " 20,\n",
       " 21,\n",
       " 22,\n",
       " 23,\n",
       " 24,\n",
       " 25,\n",
       " 26,\n",
       " 27,\n",
       " 28,\n",
       " 29,\n",
       " 30,\n",
       " 31,\n",
       " 32,\n",
       " 33,\n",
       " 34,\n",
       " 35,\n",
       " 36,\n",
       " 37,\n",
       " 38,\n",
       " 39,\n",
       " 40,\n",
       " 41,\n",
       " 42,\n",
       " 43,\n",
       " 44,\n",
       " 45,\n",
       " 46,\n",
       " 47,\n",
       " 48,\n",
       " 49,\n",
       " 50,\n",
       " 51,\n",
       " 52,\n",
       " 53,\n",
       " 54,\n",
       " 55,\n",
       " 56,\n",
       " 57,\n",
       " 58,\n",
       " 59,\n",
       " 60,\n",
       " 61,\n",
       " 62,\n",
       " 63,\n",
       " 64,\n",
       " 65,\n",
       " 66,\n",
       " 67,\n",
       " 68,\n",
       " 69,\n",
       " 70,\n",
       " 71,\n",
       " 72,\n",
       " 73,\n",
       " 74,\n",
       " 75,\n",
       " 76,\n",
       " 77,\n",
       " 78,\n",
       " 79,\n",
       " 80,\n",
       " 81,\n",
       " 82,\n",
       " 83,\n",
       " 84,\n",
       " 85,\n",
       " 86,\n",
       " 87,\n",
       " 88,\n",
       " 89,\n",
       " 90,\n",
       " 91,\n",
       " 92,\n",
       " 93,\n",
       " 94,\n",
       " 95,\n",
       " 96,\n",
       " 97,\n",
       " 98,\n",
       " 99,\n",
       " 100]"
      ]
     },
     "execution_count": 6,
     "metadata": {},
     "output_type": "execute_result"
    }
   ],
   "source": [
    "a"
   ]
  },
  {
   "cell_type": "code",
   "execution_count": 8,
   "id": "f8072572",
   "metadata": {},
   "outputs": [
    {
     "name": "stdout",
     "output_type": "stream",
     "text": [
      "X X 3 X X 6 X X 9 X X 12 X X 15 X X 18 X X 21 X X 24 X X 27 X X 30 X X 33 X X 36 X X 39 X X 42 X X 45 X X 48 X X 51 X X 54 X X 57 X X 60 X X 63 X X 66 X X 69 X X 72 X X 75 X X 78 X X 81 X X 84 X X 87 X X 90 X X 93 X X 96 X X 99 X "
     ]
    }
   ],
   "source": [
    "for i in a :\n",
    "    if i % 3 == 0 :\n",
    "        print(i, end = ' ')\n",
    "    else :\n",
    "        print('X', end=' ')"
   ]
  },
  {
   "cell_type": "code",
   "execution_count": 17,
   "id": "e159ebea",
   "metadata": {},
   "outputs": [
    {
     "name": "stdout",
     "output_type": "stream",
     "text": [
      "*  \n",
      "** \n",
      "***\n",
      "\n",
      "*\n",
      "**\n",
      "***\n"
     ]
    }
   ],
   "source": [
    "# *\n",
    "# **\n",
    "# ***\n",
    "\n",
    "for i in range(3) :\n",
    "    print('{:3}'.format('*'*(i+1)))\n",
    "\n",
    "print()\n",
    "\n",
    "for i in range(1, 4) :\n",
    "    for j in range(1, i+1) :\n",
    "        print('*', end='')\n",
    "    print()"
   ]
  },
  {
   "cell_type": "code",
   "execution_count": 18,
   "id": "380494bc",
   "metadata": {},
   "outputs": [
    {
     "name": "stdout",
     "output_type": "stream",
     "text": [
      "*\n",
      "**\n",
      "***\n"
     ]
    }
   ],
   "source": [
    "for i in range(1, 4) :\n",
    "    print('*' * i)"
   ]
  },
  {
   "cell_type": "code",
   "execution_count": 24,
   "id": "c6e5902f",
   "metadata": {},
   "outputs": [
    {
     "name": "stdout",
     "output_type": "stream",
     "text": [
      "15.0\n"
     ]
    }
   ],
   "source": [
    "# 리스트 값 합 구하기\n",
    "d = ['1', '2', '3', '4.0', '5']\n",
    "s = 0\n",
    "\n",
    "for i in d :\n",
    "    s = s + float(i)\n",
    "\n",
    "print(s)"
   ]
  },
  {
   "cell_type": "code",
   "execution_count": 25,
   "id": "bc03d964",
   "metadata": {},
   "outputs": [
    {
     "ename": "ValueError",
     "evalue": "invalid literal for int() with base 10: '4.0'",
     "output_type": "error",
     "traceback": [
      "\u001b[1;31m---------------------------------------------------------------------------\u001b[0m",
      "\u001b[1;31mValueError\u001b[0m                                Traceback (most recent call last)",
      "\u001b[1;32m<ipython-input-25-89496a80b217>\u001b[0m in \u001b[0;36m<module>\u001b[1;34m\u001b[0m\n\u001b[0;32m      4\u001b[0m \u001b[1;33m\u001b[0m\u001b[0m\n\u001b[0;32m      5\u001b[0m \u001b[1;32mfor\u001b[0m \u001b[0mi\u001b[0m \u001b[1;32min\u001b[0m \u001b[0md\u001b[0m \u001b[1;33m:\u001b[0m\u001b[1;33m\u001b[0m\u001b[1;33m\u001b[0m\u001b[0m\n\u001b[1;32m----> 6\u001b[1;33m     \u001b[0ms\u001b[0m \u001b[1;33m=\u001b[0m \u001b[0ms\u001b[0m \u001b[1;33m+\u001b[0m \u001b[0mint\u001b[0m\u001b[1;33m(\u001b[0m\u001b[0mi\u001b[0m\u001b[1;33m)\u001b[0m\u001b[1;33m\u001b[0m\u001b[1;33m\u001b[0m\u001b[0m\n\u001b[0m\u001b[0;32m      7\u001b[0m \u001b[1;33m\u001b[0m\u001b[0m\n\u001b[0;32m      8\u001b[0m \u001b[0mprint\u001b[0m\u001b[1;33m(\u001b[0m\u001b[0ms\u001b[0m\u001b[1;33m)\u001b[0m\u001b[1;33m\u001b[0m\u001b[1;33m\u001b[0m\u001b[0m\n",
      "\u001b[1;31mValueError\u001b[0m: invalid literal for int() with base 10: '4.0'"
     ]
    }
   ],
   "source": [
    "# 리스트 값 합 구하기\n",
    "d = ['1', '2', '3', '4.0', '5']\n",
    "s = 0\n",
    "\n",
    "for i in d :\n",
    "    s = s + int(i)\n",
    "\n",
    "print(s)"
   ]
  },
  {
   "cell_type": "code",
   "execution_count": 28,
   "id": "e0f709cc",
   "metadata": {},
   "outputs": [
    {
     "name": "stdout",
     "output_type": "stream",
     "text": [
      "18\n"
     ]
    }
   ],
   "source": [
    "# 리스트에서 3의 배수의 합 구하기\n",
    "\n",
    "c = 0\n",
    "for i in range(1, 11) :\n",
    "    if i % 3 == 0 :\n",
    "        c += i\n",
    "        # c += c + i\n",
    "print(c)"
   ]
  },
  {
   "cell_type": "code",
   "execution_count": 29,
   "id": "931e3287",
   "metadata": {},
   "outputs": [
    {
     "name": "stdout",
     "output_type": "stream",
     "text": [
      "[[1, 2], [3, 4], [5, 6]]\n"
     ]
    }
   ],
   "source": [
    "# 2차원 리스트 출력하기\n",
    "\n",
    "a = [[1, 2], [3, 4], [5, 6]]\n",
    "\n",
    "print(a)"
   ]
  },
  {
   "cell_type": "code",
   "execution_count": 30,
   "id": "374f1033",
   "metadata": {},
   "outputs": [
    {
     "name": "stdout",
     "output_type": "stream",
     "text": [
      "[1, 2]\n"
     ]
    }
   ],
   "source": [
    "print(a[0])"
   ]
  },
  {
   "cell_type": "code",
   "execution_count": 31,
   "id": "b3b4f775",
   "metadata": {},
   "outputs": [
    {
     "name": "stdout",
     "output_type": "stream",
     "text": [
      "1\n"
     ]
    }
   ],
   "source": [
    "print(a[0][0])"
   ]
  },
  {
   "cell_type": "code",
   "execution_count": 32,
   "id": "a2ba5d9b",
   "metadata": {},
   "outputs": [
    {
     "name": "stdout",
     "output_type": "stream",
     "text": [
      "[1, 2]\n",
      "[3, 4]\n",
      "[5, 6]\n"
     ]
    }
   ],
   "source": [
    "for i in a :\n",
    "    print(i)"
   ]
  },
  {
   "cell_type": "code",
   "execution_count": 34,
   "id": "91edb9ec",
   "metadata": {},
   "outputs": [
    {
     "name": "stdout",
     "output_type": "stream",
     "text": [
      "1 2 \n",
      "3 4 \n",
      "5 6 \n"
     ]
    }
   ],
   "source": [
    "for i in a :\n",
    "    for j in i :\n",
    "        print(j, end=' ')\n",
    "    print()"
   ]
  },
  {
   "cell_type": "code",
   "execution_count": 40,
   "id": "8a388e9e",
   "metadata": {},
   "outputs": [
    {
     "name": "stdout",
     "output_type": "stream",
     "text": [
      "최대값은 = 289\n",
      "최소값은 = 2\n"
     ]
    }
   ],
   "source": [
    "# 최대값, 최소값 구하기\n",
    "\n",
    "a = [3, 4, 289, 2, 34, 134]\n",
    "mx = a[0]\n",
    "mn = a[0]\n",
    "\n",
    "for i in a :\n",
    "    if mx < i :\n",
    "        mx = i\n",
    "    if mn > i :\n",
    "        mn = i\n",
    "print(f'최대값은 = {mx}')\n",
    "print(f'최소값은 = {mn}')"
   ]
  },
  {
   "cell_type": "code",
   "execution_count": 41,
   "id": "b459c608",
   "metadata": {},
   "outputs": [
    {
     "name": "stdout",
     "output_type": "stream",
     "text": [
      "{1, 2, 4, 5, 8}\n",
      "{1, 2, 3}\n"
     ]
    }
   ],
   "source": [
    "# 세트를 합집합, 교집합, 차집합 구하기\n",
    "a = [1, 2, 5, 8, 2, 4, 5]\n",
    "b = [1, 2, 3]\n",
    "\n",
    "s1 = set(a)\n",
    "s2 = set(b)\n",
    "print(s1)\n",
    "print(s2)\n",
    "\n",
    "# 세트는 중복을 허용하지 않는다.\n",
    "# set는 인덱스가 없다 / list는 인덱스가 있다\n"
   ]
  },
  {
   "cell_type": "code",
   "execution_count": 42,
   "id": "d60d6672",
   "metadata": {},
   "outputs": [
    {
     "name": "stdout",
     "output_type": "stream",
     "text": [
      "<class 'set'>\n"
     ]
    }
   ],
   "source": [
    "print(type(s1))"
   ]
  },
  {
   "cell_type": "code",
   "execution_count": 45,
   "id": "31b0184a",
   "metadata": {},
   "outputs": [
    {
     "name": "stdout",
     "output_type": "stream",
     "text": [
      "{1, 2}\n",
      "{1, 2, 3, 4, 5, 8}\n",
      "{8, 4, 5}\n"
     ]
    }
   ],
   "source": [
    "print(s1 & s2) # 교집합\n",
    "print(s1 | s2) # 합집합\n",
    "print(s1 - s2) # 차집합"
   ]
  },
  {
   "cell_type": "code",
   "execution_count": 47,
   "id": "25fd7cd6",
   "metadata": {},
   "outputs": [
    {
     "name": "stdout",
     "output_type": "stream",
     "text": [
      "{1, 2, 3}\n"
     ]
    }
   ],
   "source": [
    "# set은 중복이 제거됨\n",
    "c = {1, 2, 3, 2}\n",
    "print(c)"
   ]
  },
  {
   "cell_type": "code",
   "execution_count": 48,
   "id": "1b2457a5",
   "metadata": {},
   "outputs": [
    {
     "name": "stdout",
     "output_type": "stream",
     "text": [
      "['aaaa', 'bbbb', 'ccc', 'ccc']\n",
      "{'ccc', 'bbbb', 'aaaa'}\n"
     ]
    }
   ],
   "source": [
    "a = 'aaaa bbbb ccc ccc'\n",
    "b = a.split(' ')\n",
    "print(b)\n",
    "print(set(b))"
   ]
  },
  {
   "cell_type": "code",
   "execution_count": 49,
   "id": "a7d3d2a7",
   "metadata": {},
   "outputs": [],
   "source": [
    "a = [1, 2, 3, 4, 5] # 리스트 => 값 변경 가능\n",
    "\n",
    "b = {1, 2, 3, 4, 3, 3, 3} # 세트\n",
    "\n",
    "c = (2, 2, 3, 4, 5) # 튜플 => 값 변경 불가능\n",
    "# 최소한의 메모리로 최대한 빠르게 연산이 가능 (단순 결과물로 값을 보여줄 때) 튜플 사용\n",
    "\n",
    "d = {'aaa':1,\n",
    "     'bbb':2,\n",
    "     'ccc':3} # 딕셔너리 => 값 변경 가능 / 키는 중복 불가능 / "
   ]
  },
  {
   "cell_type": "code",
   "execution_count": 50,
   "id": "7b4ac70c",
   "metadata": {},
   "outputs": [
    {
     "name": "stdout",
     "output_type": "stream",
     "text": [
      "[1, 2, 3, 4, 5]\n",
      "1\n",
      "2\n",
      "3\n",
      "4\n",
      "5\n"
     ]
    }
   ],
   "source": [
    "# 리스트\n",
    "print(a)\n",
    "for i in a :\n",
    "    print(i)"
   ]
  },
  {
   "cell_type": "code",
   "execution_count": 51,
   "id": "93c3396d",
   "metadata": {},
   "outputs": [],
   "source": [
    "# 인덱싱과 슬라이싱은 생략한다고 ..."
   ]
  },
  {
   "cell_type": "code",
   "execution_count": 55,
   "id": "f6791fb8",
   "metadata": {},
   "outputs": [
    {
     "name": "stdout",
     "output_type": "stream",
     "text": [
      "{1, 2, 3, 4}\n",
      "1\n",
      "2\n",
      "3\n",
      "4\n"
     ]
    }
   ],
   "source": [
    "# 세트 \n",
    "print(b)\n",
    "for i in b :\n",
    "    print(i)"
   ]
  },
  {
   "cell_type": "code",
   "execution_count": 53,
   "id": "82a292a7",
   "metadata": {},
   "outputs": [
    {
     "name": "stdout",
     "output_type": "stream",
     "text": [
      "(2, 2, 3, 4, 5)\n",
      "2\n",
      "2\n",
      "3\n",
      "4\n",
      "5\n"
     ]
    }
   ],
   "source": [
    "# 튜플 \n",
    "print(c)\n",
    "for i in c :\n",
    "    print(i)"
   ]
  },
  {
   "cell_type": "code",
   "execution_count": 56,
   "id": "ec3aff7d",
   "metadata": {},
   "outputs": [
    {
     "data": {
      "text/plain": [
       "2"
      ]
     },
     "execution_count": 56,
     "metadata": {},
     "output_type": "execute_result"
    }
   ],
   "source": [
    "c[0]"
   ]
  },
  {
   "cell_type": "code",
   "execution_count": 57,
   "id": "5c24116b",
   "metadata": {},
   "outputs": [
    {
     "data": {
      "text/plain": [
       "(2, 2, 3)"
      ]
     },
     "execution_count": 57,
     "metadata": {},
     "output_type": "execute_result"
    }
   ],
   "source": [
    "c[0:3]\n",
    "# 소괄호()가 사용되어있다면 튜플이라고 생각하자"
   ]
  },
  {
   "cell_type": "code",
   "execution_count": 59,
   "id": "2535e6f0",
   "metadata": {},
   "outputs": [
    {
     "name": "stdout",
     "output_type": "stream",
     "text": [
      "{'aaa': 1, 'bbb': 2, 'ccc': 3}\n",
      "aaa\n",
      "bbb\n",
      "ccc\n"
     ]
    }
   ],
   "source": [
    "# 딕셔너리\n",
    "print(d)\n",
    "for i in d :\n",
    "    print(i) # 키값들만 튀어나옴"
   ]
  },
  {
   "cell_type": "code",
   "execution_count": 60,
   "id": "4368e211",
   "metadata": {},
   "outputs": [
    {
     "name": "stdout",
     "output_type": "stream",
     "text": [
      "('aaa', 1)\n",
      "('bbb', 2)\n",
      "('ccc', 3)\n"
     ]
    }
   ],
   "source": [
    "for i in d.items() :\n",
    "    print(i)\n",
    "    # 결과에 () 썼으니 튜플 맞다"
   ]
  },
  {
   "cell_type": "code",
   "execution_count": 62,
   "id": "d33ac778",
   "metadata": {},
   "outputs": [
    {
     "name": "stdout",
     "output_type": "stream",
     "text": [
      "aaa 1\n",
      "bbb 2\n",
      "ccc 3\n"
     ]
    }
   ],
   "source": [
    "for i in d.items() :\n",
    "    print(i[0], i[1])\n",
    "    "
   ]
  },
  {
   "cell_type": "code",
   "execution_count": 65,
   "id": "3a97d281",
   "metadata": {},
   "outputs": [
    {
     "name": "stdout",
     "output_type": "stream",
     "text": [
      "aaa : 1 bbb : 2 ccc : 3 "
     ]
    }
   ],
   "source": [
    "for i, j in d.items() :\n",
    "    print(f'{i} : {j}', end=' ')"
   ]
  },
  {
   "cell_type": "code",
   "execution_count": 66,
   "id": "902b3d4d",
   "metadata": {},
   "outputs": [
    {
     "data": {
      "text/plain": [
       "1"
      ]
     },
     "execution_count": 66,
     "metadata": {},
     "output_type": "execute_result"
    }
   ],
   "source": [
    "d['aaa']"
   ]
  },
  {
   "cell_type": "code",
   "execution_count": 67,
   "id": "d13f10b6",
   "metadata": {},
   "outputs": [
    {
     "data": {
      "text/plain": [
       "2"
      ]
     },
     "execution_count": 67,
     "metadata": {},
     "output_type": "execute_result"
    }
   ],
   "source": [
    "d['bbb']"
   ]
  },
  {
   "cell_type": "code",
   "execution_count": 68,
   "id": "dea4e2a5",
   "metadata": {},
   "outputs": [
    {
     "data": {
      "text/plain": [
       "3"
      ]
     },
     "execution_count": 68,
     "metadata": {},
     "output_type": "execute_result"
    }
   ],
   "source": [
    "d['ccc']"
   ]
  },
  {
   "cell_type": "code",
   "execution_count": 69,
   "id": "de105322",
   "metadata": {},
   "outputs": [],
   "source": [
    "e = [['id1', '가나다1', '010-0000-0000', 25],\n",
    "    ['id2', '가나다2', '010-1001-0110', 35],\n",
    "    ['id3', '가나다3', '010-0230-0233', 45]]"
   ]
  },
  {
   "cell_type": "code",
   "execution_count": 70,
   "id": "ac856dae",
   "metadata": {},
   "outputs": [
    {
     "name": "stdout",
     "output_type": "stream",
     "text": [
      "25\n",
      "35\n",
      "45\n"
     ]
    }
   ],
   "source": [
    "for i in e :\n",
    "    print(i[3])"
   ]
  },
  {
   "cell_type": "code",
   "execution_count": 71,
   "id": "5eefa213",
   "metadata": {},
   "outputs": [
    {
     "data": {
      "text/plain": [
       "list"
      ]
     },
     "execution_count": 71,
     "metadata": {},
     "output_type": "execute_result"
    }
   ],
   "source": [
    "type(e)"
   ]
  },
  {
   "cell_type": "code",
   "execution_count": 74,
   "id": "6fd82c75",
   "metadata": {},
   "outputs": [
    {
     "data": {
      "text/plain": [
       "25"
      ]
     },
     "execution_count": 74,
     "metadata": {},
     "output_type": "execute_result"
    }
   ],
   "source": [
    "e[0][3]"
   ]
  },
  {
   "cell_type": "code",
   "execution_count": 77,
   "id": "1014e03b",
   "metadata": {},
   "outputs": [
    {
     "data": {
      "text/plain": [
       "35"
      ]
     },
     "execution_count": 77,
     "metadata": {},
     "output_type": "execute_result"
    }
   ],
   "source": [
    "e[-2][-1]"
   ]
  },
  {
   "cell_type": "code",
   "execution_count": 78,
   "id": "b02cfe34",
   "metadata": {},
   "outputs": [
    {
     "data": {
      "text/plain": [
       "5"
      ]
     },
     "execution_count": 78,
     "metadata": {},
     "output_type": "execute_result"
    }
   ],
   "source": [
    "max([1, 2, 3, 4, 5])"
   ]
  },
  {
   "cell_type": "code",
   "execution_count": 79,
   "id": "4cafee9f",
   "metadata": {},
   "outputs": [
    {
     "data": {
      "text/plain": [
       "1"
      ]
     },
     "execution_count": 79,
     "metadata": {},
     "output_type": "execute_result"
    }
   ],
   "source": [
    "min([1, 2, 3, 4, 5])"
   ]
  },
  {
   "cell_type": "code",
   "execution_count": 80,
   "id": "ae0f49ec",
   "metadata": {},
   "outputs": [],
   "source": [
    "import func as fc"
   ]
  },
  {
   "cell_type": "code",
   "execution_count": 83,
   "id": "5c4bc502",
   "metadata": {},
   "outputs": [
    {
     "name": "stdout",
     "output_type": "stream",
     "text": [
      "15\n"
     ]
    }
   ],
   "source": [
    "a = fc.sum(7, 8)\n",
    "print(a)"
   ]
  },
  {
   "cell_type": "code",
   "execution_count": 84,
   "id": "5ef93520",
   "metadata": {},
   "outputs": [
    {
     "name": "stdout",
     "output_type": "stream",
     "text": [
      "-1\n"
     ]
    }
   ],
   "source": [
    "b = fc.sub(7, 8)\n",
    "print(b)"
   ]
  },
  {
   "cell_type": "code",
   "execution_count": 85,
   "id": "28c07e92",
   "metadata": {},
   "outputs": [
    {
     "name": "stdout",
     "output_type": "stream",
     "text": [
      "1\n"
     ]
    }
   ],
   "source": [
    "c = fc.mul()\n",
    "print(c)"
   ]
  },
  {
   "cell_type": "code",
   "execution_count": 86,
   "id": "170835b3",
   "metadata": {},
   "outputs": [
    {
     "name": "stdout",
     "output_type": "stream",
     "text": [
      "20\n"
     ]
    }
   ],
   "source": [
    "d = fc.mul(a = 4, b = 5)\n",
    "print(d)"
   ]
  },
  {
   "cell_type": "code",
   "execution_count": 87,
   "id": "06c1cd1d",
   "metadata": {},
   "outputs": [
    {
     "data": {
      "text/plain": [
       "20"
      ]
     },
     "execution_count": 87,
     "metadata": {},
     "output_type": "execute_result"
    }
   ],
   "source": [
    "fc.mul(4, 5)"
   ]
  },
  {
   "cell_type": "code",
   "execution_count": 88,
   "id": "d4bda577",
   "metadata": {},
   "outputs": [
    {
     "data": {
      "text/plain": [
       "1"
      ]
     },
     "execution_count": 88,
     "metadata": {},
     "output_type": "execute_result"
    }
   ],
   "source": [
    "fc.sub(8,7)"
   ]
  },
  {
   "cell_type": "code",
   "execution_count": 89,
   "id": "1ef0cab9",
   "metadata": {},
   "outputs": [
    {
     "data": {
      "text/plain": [
       "-1"
      ]
     },
     "execution_count": 89,
     "metadata": {},
     "output_type": "execute_result"
    }
   ],
   "source": [
    "fc.sub(b = 8, a = 7)"
   ]
  },
  {
   "cell_type": "code",
   "execution_count": 91,
   "id": "d5866374",
   "metadata": {},
   "outputs": [
    {
     "name": "stdout",
     "output_type": "stream",
     "text": [
      "<class 'dict'>\n"
     ]
    }
   ],
   "source": [
    "# 딕션너리 생성\n",
    "c = dict()\n",
    "print(type(c))"
   ]
  },
  {
   "cell_type": "code",
   "execution_count": 92,
   "id": "a3a6f0e8",
   "metadata": {},
   "outputs": [
    {
     "data": {
      "text/plain": [
       "{}"
      ]
     },
     "execution_count": 92,
     "metadata": {},
     "output_type": "execute_result"
    }
   ],
   "source": [
    "c"
   ]
  },
  {
   "cell_type": "code",
   "execution_count": 93,
   "id": "7af6104f",
   "metadata": {},
   "outputs": [
    {
     "ename": "KeyError",
     "evalue": "'key'",
     "output_type": "error",
     "traceback": [
      "\u001b[1;31m---------------------------------------------------------------------------\u001b[0m",
      "\u001b[1;31mKeyError\u001b[0m                                  Traceback (most recent call last)",
      "\u001b[1;32m<ipython-input-93-d1b4d4d36bc5>\u001b[0m in \u001b[0;36m<module>\u001b[1;34m\u001b[0m\n\u001b[1;32m----> 1\u001b[1;33m \u001b[0mc\u001b[0m\u001b[1;33m[\u001b[0m\u001b[1;34m'key'\u001b[0m\u001b[1;33m]\u001b[0m\u001b[1;33m\u001b[0m\u001b[1;33m\u001b[0m\u001b[0m\n\u001b[0m",
      "\u001b[1;31mKeyError\u001b[0m: 'key'"
     ]
    }
   ],
   "source": [
    "c['key'] # 키가 없으면 오류 발생"
   ]
  },
  {
   "cell_type": "code",
   "execution_count": 95,
   "id": "4346285b",
   "metadata": {},
   "outputs": [
    {
     "name": "stdout",
     "output_type": "stream",
     "text": [
      "0\n"
     ]
    }
   ],
   "source": [
    "# key 키가 없을 경우 0을 반환\n",
    "print(c.get('key', 0))"
   ]
  },
  {
   "cell_type": "code",
   "execution_count": 96,
   "id": "182935b0",
   "metadata": {},
   "outputs": [],
   "source": [
    "c['key'] = 5"
   ]
  },
  {
   "cell_type": "code",
   "execution_count": 97,
   "id": "c2dfcf7b",
   "metadata": {},
   "outputs": [
    {
     "data": {
      "text/plain": [
       "{'key': 5}"
      ]
     },
     "execution_count": 97,
     "metadata": {},
     "output_type": "execute_result"
    }
   ],
   "source": [
    "c"
   ]
  },
  {
   "cell_type": "code",
   "execution_count": 98,
   "id": "c4a2533a",
   "metadata": {},
   "outputs": [
    {
     "name": "stdout",
     "output_type": "stream",
     "text": [
      "5\n"
     ]
    }
   ],
   "source": [
    "print(c.get('key', 0))"
   ]
  },
  {
   "cell_type": "code",
   "execution_count": 99,
   "id": "17c03254",
   "metadata": {},
   "outputs": [],
   "source": [
    "a = 'aaa bbb ccc aaa'\n",
    "b = a.split() # ['aaa', 'bbb', 'ccc', 'aaa']"
   ]
  },
  {
   "cell_type": "code",
   "execution_count": 100,
   "id": "402343a9",
   "metadata": {},
   "outputs": [
    {
     "data": {
      "text/plain": [
       "['aaa', 'bbb', 'ccc', 'aaa']"
      ]
     },
     "execution_count": 100,
     "metadata": {},
     "output_type": "execute_result"
    }
   ],
   "source": [
    "b"
   ]
  },
  {
   "cell_type": "code",
   "execution_count": 102,
   "id": "5139a7a1",
   "metadata": {},
   "outputs": [
    {
     "name": "stdout",
     "output_type": "stream",
     "text": [
      "{'key': 5, 'aaa': 2, 'bbb': 1, 'ccc': 1}\n"
     ]
    }
   ],
   "source": [
    "for i in b:\n",
    "    c[i] = c.get(i, 0) + 1\n",
    "    # c['aaa'] = 1       0+1\n",
    "    # c['bbb'] = 1                 0+1\n",
    "    # c['ccc'] = 1                 0+1\n",
    "    # c['aaa'] = 2       1+1    \n",
    "    \n"
   ]
  },
  {
   "cell_type": "code",
   "execution_count": 103,
   "id": "7651f808",
   "metadata": {},
   "outputs": [
    {
     "name": "stdout",
     "output_type": "stream",
     "text": [
      "딕셔너리 {}\n",
      "딕셔너리 {'aaa': 1}\n",
      "딕셔너리 {'aaa': 1, 'bbb': 1}\n",
      "딕셔너리 {'aaa': 1, 'bbb': 1, 'ccc': 1}\n",
      "{'aaa': 2, 'bbb': 1, 'ccc': 1}\n"
     ]
    }
   ],
   "source": [
    "c = dict()\n",
    "for i in b:\n",
    "    print('딕셔너리', c)\n",
    "    c[i] = c.get(i, 0) + 1\n",
    "print(c)"
   ]
  },
  {
   "cell_type": "code",
   "execution_count": 108,
   "id": "ab394112",
   "metadata": {},
   "outputs": [
    {
     "name": "stdout",
     "output_type": "stream",
     "text": [
      "aaa bbb ccc ddd eee aaa\n"
     ]
    }
   ],
   "source": [
    "# 텍스트 파일 읽기\n",
    "\n",
    "# 상대경로\n",
    "# f = open('./data/word.txt', mode = 'r')\n",
    "#절대경로\n",
    "f = open('C:/Users/ITPS/Desktop/workspacee/bigdata_python/data/word.txt', mode = 'r')\n",
    "print(f.readline())\n",
    "f.close()"
   ]
  },
  {
   "cell_type": "code",
   "execution_count": 109,
   "id": "42f1256f",
   "metadata": {},
   "outputs": [
    {
     "data": {
      "text/plain": [
       "'C:\\\\Users\\\\ITPS\\\\Desktop\\\\workspacee\\\\bigdata_python'"
      ]
     },
     "execution_count": 109,
     "metadata": {},
     "output_type": "execute_result"
    }
   ],
   "source": [
    "pwd"
   ]
  },
  {
   "cell_type": "code",
   "execution_count": 110,
   "id": "cfefff68",
   "metadata": {},
   "outputs": [
    {
     "name": "stdout",
     "output_type": "stream",
     "text": [
      "aaa bbb ccc ddd eee aaa\n"
     ]
    }
   ],
   "source": [
    "with open('./data/word.txt', mode='r') as f :\n",
    "    print(f.readline())"
   ]
  },
  {
   "cell_type": "code",
   "execution_count": null,
   "id": "1e8af01c",
   "metadata": {},
   "outputs": [],
   "source": []
  }
 ],
 "metadata": {
  "kernelspec": {
   "display_name": "Python 3",
   "language": "python",
   "name": "python3"
  },
  "language_info": {
   "codemirror_mode": {
    "name": "ipython",
    "version": 3
   },
   "file_extension": ".py",
   "mimetype": "text/x-python",
   "name": "python",
   "nbconvert_exporter": "python",
   "pygments_lexer": "ipython3",
   "version": "3.8.8"
  }
 },
 "nbformat": 4,
 "nbformat_minor": 5
}

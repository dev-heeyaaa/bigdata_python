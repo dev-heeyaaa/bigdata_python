{
 "cells": [
  {
   "cell_type": "markdown",
   "id": "65eb813a",
   "metadata": {},
   "source": [
    "## selenium 으로 DOM에 접근하는 방법\n",
    "\n",
    "- 단일 객체 반환 (bs4의 find()와 같은 형태)\n",
    "    - find_element_by_id\n",
    "    - find_element_by_tag_name\n",
    "    - find_element_by_xpath\n",
    "    - find_element_by_link_text\n",
    "    - find_element_by_partial_link_text\n",
    "    - find_element_by_name\n",
    "    - find_element_by_class_name\n",
    "    - find_element_by_css_selector\n",
    "  \n",
    "  \n",
    "- 리스트 객체 반환(bs4의  find_all()과 같은 형태)\n",
    "    - find_elements_by_tag_name\n",
    "    - find_elements_by_xpath\n",
    "    - find_elements_by_link_text\n",
    "    - find_elements_by_partial_link_text\n",
    "    - find_elements_by_name\n",
    "    - find_elements_by_class_name\n",
    "    - find_elements_by_css_selector"
   ]
  },
  {
   "cell_type": "code",
   "execution_count": 1,
   "id": "5aa183a5",
   "metadata": {},
   "outputs": [],
   "source": [
    "from selenium import webdriver"
   ]
  },
  {
   "cell_type": "code",
   "execution_count": 2,
   "id": "eb2e69e4",
   "metadata": {},
   "outputs": [],
   "source": [
    "driver = webdriver.Chrome('chromedriver')"
   ]
  },
  {
   "cell_type": "code",
   "execution_count": 3,
   "id": "85b054cb",
   "metadata": {},
   "outputs": [],
   "source": [
    "# 웹 접속하기\n",
    "url = 'https://www.naver.com'\n",
    "\n",
    "driver = webdriver.Chrome('chromedriver')\n",
    "\n",
    "driver.get(url) # url 접속"
   ]
  },
  {
   "cell_type": "markdown",
   "id": "c5e6130f",
   "metadata": {},
   "source": [
    "### id"
   ]
  },
  {
   "cell_type": "code",
   "execution_count": 5,
   "id": "85cd1139",
   "metadata": {},
   "outputs": [
    {
     "name": "stdout",
     "output_type": "stream",
     "text": [
      "<selenium.webdriver.remote.webelement.WebElement (session=\"26b7a749abf6c1254f5e1d96e84b2c8a\", element=\"fa3701f0-adc2-4c36-a099-aff27159cac6\")>\n",
      "input\n"
     ]
    }
   ],
   "source": [
    "url = 'https://pjt3591oo.github.io'\n",
    "\n",
    "driver = webdriver.Chrome('chromedriver')\n",
    "\n",
    "driver.get(url)\n",
    "\n",
    "selected_id = driver.find_element_by_id('nav-trigger')\n",
    "print(selected_id)\n",
    "print(selected_id.tag_name)"
   ]
  },
  {
   "cell_type": "markdown",
   "id": "79cb2a9a",
   "metadata": {},
   "source": [
    "### tag_name"
   ]
  },
  {
   "cell_type": "code",
   "execution_count": 8,
   "id": "4f6d69ec",
   "metadata": {},
   "outputs": [
    {
     "name": "stdout",
     "output_type": "stream",
     "text": [
      "<selenium.webdriver.remote.webelement.WebElement (session=\"8d333bffdaabea5e3c08590f02ba9adc\", element=\"3b6c4f31-ee2d-44fe-8732-8cbb6999d117\")>\n",
      "p\n",
      "2017-05-20 06:29:05 +0000   |   박정태\n",
      "[<selenium.webdriver.remote.webelement.WebElement (session=\"8d333bffdaabea5e3c08590f02ba9adc\", element=\"3b6c4f31-ee2d-44fe-8732-8cbb6999d117\")>, <selenium.webdriver.remote.webelement.WebElement (session=\"8d333bffdaabea5e3c08590f02ba9adc\", element=\"a1226208-a369-4b84-a97b-0807bd153d32\")>, <selenium.webdriver.remote.webelement.WebElement (session=\"8d333bffdaabea5e3c08590f02ba9adc\", element=\"2dac8a2c-dcf5-47d0-9174-d7b41ed6863f\")>, <selenium.webdriver.remote.webelement.WebElement (session=\"8d333bffdaabea5e3c08590f02ba9adc\", element=\"537a95ca-6426-4078-994b-ef501a5a57f1\")>, <selenium.webdriver.remote.webelement.WebElement (session=\"8d333bffdaabea5e3c08590f02ba9adc\", element=\"7b827ab4-be1a-44b6-947b-eb2bc562ac1e\")>, <selenium.webdriver.remote.webelement.WebElement (session=\"8d333bffdaabea5e3c08590f02ba9adc\", element=\"fa0ae9a3-508b-40c4-939e-4d82ab387907\")>, <selenium.webdriver.remote.webelement.WebElement (session=\"8d333bffdaabea5e3c08590f02ba9adc\", element=\"730fce19-68d6-46c4-a514-cd534c2b9588\")>, <selenium.webdriver.remote.webelement.WebElement (session=\"8d333bffdaabea5e3c08590f02ba9adc\", element=\"f84e3f02-361e-47e2-8b89-2173a00bb357\")>, <selenium.webdriver.remote.webelement.WebElement (session=\"8d333bffdaabea5e3c08590f02ba9adc\", element=\"52e9e677-171d-426e-bf06-33657abf9f08\")>, <selenium.webdriver.remote.webelement.WebElement (session=\"8d333bffdaabea5e3c08590f02ba9adc\", element=\"4bd85c33-8e72-4f89-afca-baa4fd2531f0\")>, <selenium.webdriver.remote.webelement.WebElement (session=\"8d333bffdaabea5e3c08590f02ba9adc\", element=\"acf14768-6d47-4104-abce-351cc700ddf6\")>, <selenium.webdriver.remote.webelement.WebElement (session=\"8d333bffdaabea5e3c08590f02ba9adc\", element=\"4eca5894-d2c6-4745-aac4-edabaaf8cafb\")>]\n"
     ]
    }
   ],
   "source": [
    "url = 'https://pjt3591oo.github.io'\n",
    "\n",
    "driver = webdriver.Chrome('chromedriver')\n",
    "\n",
    "driver.get(url)\n",
    "\n",
    "selected_tag_p = driver.find_element_by_tag_name('p')\n",
    "print(selected_tag_p)\n",
    "print(selected_tag_p.tag_name)\n",
    "print(selected_tag_p.text)\n",
    "\n",
    "selected_tag_p = driver.find_elements_by_tag_name('p')\n",
    "print(selected_tag_p)"
   ]
  },
  {
   "cell_type": "markdown",
   "id": "b4d76f96",
   "metadata": {},
   "source": [
    "### css_selector\n",
    "\n",
    "- bs4의 select()와 동일"
   ]
  },
  {
   "cell_type": "code",
   "execution_count": 11,
   "id": "42ddd8c5",
   "metadata": {},
   "outputs": [
    {
     "name": "stdout",
     "output_type": "stream",
     "text": [
      "<selenium.webdriver.remote.webelement.WebElement (session=\"518bee95263efba7fb9a11bf9acae2b1\", element=\"dc7f8760-91c9-4582-b174-4c1d5a5f6c4e\")>\n",
      "div\n",
      "[programming] [react] react 작업환경 설\n",
      "react를 시작하기 전에 환경셋팅을 해보자\n",
      "2017-05-20 06:29:05 +0000   |   박정태\n"
     ]
    }
   ],
   "source": [
    "url = 'https://pjt3591oo.github.io'\n",
    "\n",
    "driver = webdriver.Chrome('chromedriver')\n",
    "\n",
    "driver.get(url)\n",
    "\n",
    "seleceted_selector = driver.find_element_by_css_selector('div.home div.p')\n",
    "print(seleceted_selector)\n",
    "print(seleceted_selector.tag_name)\n",
    "print(seleceted_selector.text)"
   ]
  },
  {
   "cell_type": "markdown",
   "id": "a6f94767",
   "metadata": {},
   "source": [
    "### 없는 요소에 접근\n",
    "\n",
    "- bs4와는 다르게 없는 요소에 접근하면 에러를 띄움"
   ]
  },
  {
   "cell_type": "code",
   "execution_count": 13,
   "id": "a1df66c9",
   "metadata": {
    "scrolled": true
   },
   "outputs": [
    {
     "ename": "NoSuchElementException",
     "evalue": "Message: no such element: Unable to locate element: {\"method\":\"css selector\",\"selector\":\".a\"}\n  (Session info: chrome=92.0.4515.107)\n",
     "output_type": "error",
     "traceback": [
      "\u001b[1;31m---------------------------------------------------------------------------\u001b[0m",
      "\u001b[1;31mNoSuchElementException\u001b[0m                    Traceback (most recent call last)",
      "\u001b[1;32m<ipython-input-13-518cf2722f07>\u001b[0m in \u001b[0;36m<module>\u001b[1;34m\u001b[0m\n\u001b[0;32m      5\u001b[0m \u001b[0mdriver\u001b[0m\u001b[1;33m.\u001b[0m\u001b[0mget\u001b[0m\u001b[1;33m(\u001b[0m\u001b[0murl\u001b[0m\u001b[1;33m)\u001b[0m\u001b[1;33m\u001b[0m\u001b[1;33m\u001b[0m\u001b[0m\n\u001b[0;32m      6\u001b[0m \u001b[1;33m\u001b[0m\u001b[0m\n\u001b[1;32m----> 7\u001b[1;33m \u001b[0mselected_selector\u001b[0m \u001b[1;33m=\u001b[0m \u001b[0mdriver\u001b[0m\u001b[1;33m.\u001b[0m\u001b[0mfind_element_by_css_selector\u001b[0m\u001b[1;33m(\u001b[0m\u001b[1;34m'.a'\u001b[0m\u001b[1;33m)\u001b[0m\u001b[1;33m\u001b[0m\u001b[1;33m\u001b[0m\u001b[0m\n\u001b[0m",
      "\u001b[1;32mC:\\ProgramData\\Anaconda3\\lib\\site-packages\\selenium\\webdriver\\remote\\webdriver.py\u001b[0m in \u001b[0;36mfind_element_by_css_selector\u001b[1;34m(self, css_selector)\u001b[0m\n\u001b[0;32m    596\u001b[0m             \u001b[0melement\u001b[0m \u001b[1;33m=\u001b[0m \u001b[0mdriver\u001b[0m\u001b[1;33m.\u001b[0m\u001b[0mfind_element_by_css_selector\u001b[0m\u001b[1;33m(\u001b[0m\u001b[1;34m'#foo'\u001b[0m\u001b[1;33m)\u001b[0m\u001b[1;33m\u001b[0m\u001b[1;33m\u001b[0m\u001b[0m\n\u001b[0;32m    597\u001b[0m         \"\"\"\n\u001b[1;32m--> 598\u001b[1;33m         \u001b[1;32mreturn\u001b[0m \u001b[0mself\u001b[0m\u001b[1;33m.\u001b[0m\u001b[0mfind_element\u001b[0m\u001b[1;33m(\u001b[0m\u001b[0mby\u001b[0m\u001b[1;33m=\u001b[0m\u001b[0mBy\u001b[0m\u001b[1;33m.\u001b[0m\u001b[0mCSS_SELECTOR\u001b[0m\u001b[1;33m,\u001b[0m \u001b[0mvalue\u001b[0m\u001b[1;33m=\u001b[0m\u001b[0mcss_selector\u001b[0m\u001b[1;33m)\u001b[0m\u001b[1;33m\u001b[0m\u001b[1;33m\u001b[0m\u001b[0m\n\u001b[0m\u001b[0;32m    599\u001b[0m \u001b[1;33m\u001b[0m\u001b[0m\n\u001b[0;32m    600\u001b[0m     \u001b[1;32mdef\u001b[0m \u001b[0mfind_elements_by_css_selector\u001b[0m\u001b[1;33m(\u001b[0m\u001b[0mself\u001b[0m\u001b[1;33m,\u001b[0m \u001b[0mcss_selector\u001b[0m\u001b[1;33m)\u001b[0m\u001b[1;33m:\u001b[0m\u001b[1;33m\u001b[0m\u001b[1;33m\u001b[0m\u001b[0m\n",
      "\u001b[1;32mC:\\ProgramData\\Anaconda3\\lib\\site-packages\\selenium\\webdriver\\remote\\webdriver.py\u001b[0m in \u001b[0;36mfind_element\u001b[1;34m(self, by, value)\u001b[0m\n\u001b[0;32m    974\u001b[0m                 \u001b[0mby\u001b[0m \u001b[1;33m=\u001b[0m \u001b[0mBy\u001b[0m\u001b[1;33m.\u001b[0m\u001b[0mCSS_SELECTOR\u001b[0m\u001b[1;33m\u001b[0m\u001b[1;33m\u001b[0m\u001b[0m\n\u001b[0;32m    975\u001b[0m                 \u001b[0mvalue\u001b[0m \u001b[1;33m=\u001b[0m \u001b[1;34m'[name=\"%s\"]'\u001b[0m \u001b[1;33m%\u001b[0m \u001b[0mvalue\u001b[0m\u001b[1;33m\u001b[0m\u001b[1;33m\u001b[0m\u001b[0m\n\u001b[1;32m--> 976\u001b[1;33m         return self.execute(Command.FIND_ELEMENT, {\n\u001b[0m\u001b[0;32m    977\u001b[0m             \u001b[1;34m'using'\u001b[0m\u001b[1;33m:\u001b[0m \u001b[0mby\u001b[0m\u001b[1;33m,\u001b[0m\u001b[1;33m\u001b[0m\u001b[1;33m\u001b[0m\u001b[0m\n\u001b[0;32m    978\u001b[0m             'value': value})['value']\n",
      "\u001b[1;32mC:\\ProgramData\\Anaconda3\\lib\\site-packages\\selenium\\webdriver\\remote\\webdriver.py\u001b[0m in \u001b[0;36mexecute\u001b[1;34m(self, driver_command, params)\u001b[0m\n\u001b[0;32m    319\u001b[0m         \u001b[0mresponse\u001b[0m \u001b[1;33m=\u001b[0m \u001b[0mself\u001b[0m\u001b[1;33m.\u001b[0m\u001b[0mcommand_executor\u001b[0m\u001b[1;33m.\u001b[0m\u001b[0mexecute\u001b[0m\u001b[1;33m(\u001b[0m\u001b[0mdriver_command\u001b[0m\u001b[1;33m,\u001b[0m \u001b[0mparams\u001b[0m\u001b[1;33m)\u001b[0m\u001b[1;33m\u001b[0m\u001b[1;33m\u001b[0m\u001b[0m\n\u001b[0;32m    320\u001b[0m         \u001b[1;32mif\u001b[0m \u001b[0mresponse\u001b[0m\u001b[1;33m:\u001b[0m\u001b[1;33m\u001b[0m\u001b[1;33m\u001b[0m\u001b[0m\n\u001b[1;32m--> 321\u001b[1;33m             \u001b[0mself\u001b[0m\u001b[1;33m.\u001b[0m\u001b[0merror_handler\u001b[0m\u001b[1;33m.\u001b[0m\u001b[0mcheck_response\u001b[0m\u001b[1;33m(\u001b[0m\u001b[0mresponse\u001b[0m\u001b[1;33m)\u001b[0m\u001b[1;33m\u001b[0m\u001b[1;33m\u001b[0m\u001b[0m\n\u001b[0m\u001b[0;32m    322\u001b[0m             response['value'] = self._unwrap_value(\n\u001b[0;32m    323\u001b[0m                 response.get('value', None))\n",
      "\u001b[1;32mC:\\ProgramData\\Anaconda3\\lib\\site-packages\\selenium\\webdriver\\remote\\errorhandler.py\u001b[0m in \u001b[0;36mcheck_response\u001b[1;34m(self, response)\u001b[0m\n\u001b[0;32m    240\u001b[0m                 \u001b[0malert_text\u001b[0m \u001b[1;33m=\u001b[0m \u001b[0mvalue\u001b[0m\u001b[1;33m[\u001b[0m\u001b[1;34m'alert'\u001b[0m\u001b[1;33m]\u001b[0m\u001b[1;33m.\u001b[0m\u001b[0mget\u001b[0m\u001b[1;33m(\u001b[0m\u001b[1;34m'text'\u001b[0m\u001b[1;33m)\u001b[0m\u001b[1;33m\u001b[0m\u001b[1;33m\u001b[0m\u001b[0m\n\u001b[0;32m    241\u001b[0m             \u001b[1;32mraise\u001b[0m \u001b[0mexception_class\u001b[0m\u001b[1;33m(\u001b[0m\u001b[0mmessage\u001b[0m\u001b[1;33m,\u001b[0m \u001b[0mscreen\u001b[0m\u001b[1;33m,\u001b[0m \u001b[0mstacktrace\u001b[0m\u001b[1;33m,\u001b[0m \u001b[0malert_text\u001b[0m\u001b[1;33m)\u001b[0m\u001b[1;33m\u001b[0m\u001b[1;33m\u001b[0m\u001b[0m\n\u001b[1;32m--> 242\u001b[1;33m         \u001b[1;32mraise\u001b[0m \u001b[0mexception_class\u001b[0m\u001b[1;33m(\u001b[0m\u001b[0mmessage\u001b[0m\u001b[1;33m,\u001b[0m \u001b[0mscreen\u001b[0m\u001b[1;33m,\u001b[0m \u001b[0mstacktrace\u001b[0m\u001b[1;33m)\u001b[0m\u001b[1;33m\u001b[0m\u001b[1;33m\u001b[0m\u001b[0m\n\u001b[0m\u001b[0;32m    243\u001b[0m \u001b[1;33m\u001b[0m\u001b[0m\n\u001b[0;32m    244\u001b[0m     \u001b[1;32mdef\u001b[0m \u001b[0m_value_or_default\u001b[0m\u001b[1;33m(\u001b[0m\u001b[0mself\u001b[0m\u001b[1;33m,\u001b[0m \u001b[0mobj\u001b[0m\u001b[1;33m,\u001b[0m \u001b[0mkey\u001b[0m\u001b[1;33m,\u001b[0m \u001b[0mdefault\u001b[0m\u001b[1;33m)\u001b[0m\u001b[1;33m:\u001b[0m\u001b[1;33m\u001b[0m\u001b[1;33m\u001b[0m\u001b[0m\n",
      "\u001b[1;31mNoSuchElementException\u001b[0m: Message: no such element: Unable to locate element: {\"method\":\"css selector\",\"selector\":\".a\"}\n  (Session info: chrome=92.0.4515.107)\n"
     ]
    }
   ],
   "source": [
    "url = 'https://pjt3591oo.github.io'\n",
    "\n",
    "driver = webdriver.Chrome('chromedriver')\n",
    "\n",
    "driver.get(url)\n",
    "\n",
    "selected_selector = driver.find_element_by_css_selector('.a')"
   ]
  },
  {
   "cell_type": "markdown",
   "id": "adfe220d",
   "metadata": {},
   "source": [
    "### 웹 제어\n",
    "\n",
    "#### 마우스 제어"
   ]
  },
  {
   "cell_type": "code",
   "execution_count": 15,
   "id": "2f66e59c",
   "metadata": {},
   "outputs": [],
   "source": [
    "url = 'https://pjt3591oo.github.io'\n",
    "\n",
    "driver = webdriver.Chrome('chromedriver')\n",
    "\n",
    "driver.get(url)\n",
    "\n",
    "selected_selector = driver.find_element_by_css_selector('div.home div.p a')\n",
    "\n",
    "selected_selector.click()"
   ]
  },
  {
   "cell_type": "markdown",
   "id": "8980b50c",
   "metadata": {},
   "source": [
    "#### 키보드 제어"
   ]
  },
  {
   "cell_type": "code",
   "execution_count": 16,
   "id": "895f5a89",
   "metadata": {},
   "outputs": [],
   "source": [
    "url = 'https://pjt3591oo.github.io/search'\n",
    "\n",
    "driver = webdriver.Chrome('chromedriver')\n",
    "\n",
    "driver.get(url)\n",
    "\n",
    "selected = driver.find_element_by_css_selector('input#search-box')\n",
    "selected.send_keys('test')\n"
   ]
  },
  {
   "cell_type": "code",
   "execution_count": 38,
   "id": "9b5692fb",
   "metadata": {},
   "outputs": [],
   "source": [
    "from selenium.webdriver.common.keys import Keys\n",
    "from bs4 import BeautifulSoup"
   ]
  },
  {
   "cell_type": "markdown",
   "id": "dd4978d5",
   "metadata": {},
   "source": [
    "- page_source : 현재 웹브라우저의 HTML 코드를 가져옴"
   ]
  },
  {
   "cell_type": "code",
   "execution_count": 29,
   "id": "782a957d",
   "metadata": {},
   "outputs": [
    {
     "name": "stdout",
     "output_type": "stream",
     "text": [
      "Javascript Asynchronous, synchronous and Promise\n",
      "동기, 비동기 그리고 promiseAsynchronous(비동기) Code란 무엇일까? node를 접하지 않았다면 대부분의 개발자들은 동기방식의 코드에 익숙할 것이다. 다음 코드를 보면 이해하기 쉬울 것이다.void FTest(){    for(int i = 0 ; i...\n",
      "\n",
      "Structure aiohttp Of python\n",
      "  내용을 시작하기 앞서 python에 하면 가장 많이 떠오르는 서버 프레임워크로는 django나 flask가 있을 것이다.하지만 블로그 주인놈은 특정 프로젝트에서 굉장히 빠른 응답속도를 내야하는 API서버를 구축을 하여야 하는 상황이 있었다.이때 굉장히 많은 서버 프...\n",
      "\n",
      "mysqldump를 이용하여 데이터 백업, 복원하기\n",
      "로컬 서버에 있는 디비를 분리하기 위해 기존의 디비에 있는 데이터를 백업해야 하는 일이 생겼다. 방법은 많지만 mysqldump를 이용하여 해결을 하였다.mysqldump는 해당 내부의 데이터를 sql 문으로 전부 바꿔주는 역할을 하는 툴이다.mysqldump의 경우 ...\n",
      "\n",
      "sequelize - Migrations[번역]\n",
      "  시작 하기 앞서 해당 글은 sequelize document를 직접 번역함을 알립니다. 영어를 많이 잘하지 못하여 오역이 있을 수 있습니다.sequelize 2.0.0버전은 gulp 그리고 sequelize-cli와 gulp-sequelize 결합을 기반으로 새로운...\n",
      "\n",
      "Structure Express Of Node\n",
      "Express Frameexpress는 node.js에서 제공하는 프레임워크.express-genderator를 설치를 통해 express 프로젝트 생성이 가능하다.아래의 내용은 Mysql 혹은 MariaDB, MongoDb(mongodb모듈을 통해 로우단에서 mong...\n",
      "\n",
      "sequelize - Getting Started[번역]\n",
      "  시작 하기 앞서 해당 글은 sequelize document를 직접 번역함을 알립니다. 영어를 많이 잘하지 못하여 오역이 있을 수 있습니다.설치Sequelize는 NPM을 통하여 사용할 수 있다.$ npm install --save sequelize# 다음 중 하나...\n",
      "\n",
      "docker commends\n",
      "docker는 가상머신처럼 기존의 운영체제에서 다른 운영체제를 돌릴 수 있도록 해주는 기술입니다이번 포스팅에서는 도커의 명령어를 간단하게 정리를 해보도록 하겠습니다.  이미지 확인$ docker images  이미지 파일 내려받기$ docker pull [image] ...\n",
      "\n",
      "ubuntu에 php 개발환경 셋팅\n",
      "시작하기에 앞서서 필자는 docker에 ubuntu 16버전에서 셋팅을 하였습니다.ubuntu 설치 직후와 같은환경.APM설치ubuntu에 php환경을 셋팅을 해보도록 하곘습니다.도커에 우분투를 올린것은 우분투를 설치 직후와 같기때문에 패키지, apt-get을 업데이트...\n",
      "\n",
      "mysql 원격접속하는 방법\n",
      "database도 하나의 서버이기 때문에 외부에서 접속을 해야하는 경우가 있다.하지만 2가지의 이유로 접속이 불가능할 수 있다.1번째. db의 접속 ip를 제한했을 경우 이는 디비 자체에서 특정 ip대역만 접속을 허용하도록 설정하는 경우이다.2번째. 경우 유저의 접속 ...\n",
      "\n",
      "RDBMS vs NoSQL vs InMemory\n",
      "어제 뉴스를 보면서 사람은 하루에 약 2Gb의 데이터를 자동차는 사람보다 더 많은 데이터를 비행기는 테라 바이트에 가까울 정도로 생산을 해낸다는 기사를 보았습니다.저 또한 크롤러를 통해 하루에도 수많은 데이터를 만들어 내고 있습니다.그렇다면 저 수많은 데이터를 관리를 ...\n",
      "\n",
      "sequelize - Usage[번역]\n",
      "  시작 하기 앞서 해당 글은 sequelize document를 직접 번역함을 알립니다. 영어를 많이 잘하지 못하여 오역이 있을 수 있습니다.데이터 검색/ 발견발견하는 함수들은 데이터 베이스로부터 데이터를 조회하기 위한 함수이다. 그들은 객체를 반한하지 않는 대신에 ...\n",
      "\n"
     ]
    }
   ],
   "source": [
    "url = 'https://pjt3591oo.github.io/search'\n",
    "\n",
    "driver = webdriver.Chrome('chromedriver')\n",
    "\n",
    "driver.get(url)\n",
    "\n",
    "selected = driver.find_element_by_css_selector('input#search-box')\n",
    "selected.send_keys('db')\n",
    "selected.send_keys(Keys.ENTER)\n",
    "\n",
    "soup = BeautifulSoup(driver.page_source, 'lxml')\n",
    "items = soup.select('ul#search-results li')\n",
    "\n",
    "for item in items:\n",
    "    title = item.find('h3').text\n",
    "    description = item.find('p').text\n",
    "    print(title)\n",
    "    print(description)\n",
    "    print()"
   ]
  },
  {
   "cell_type": "markdown",
   "id": "4a0afef2",
   "metadata": {},
   "source": [
    "### 인스타그램 로그인 "
   ]
  },
  {
   "cell_type": "code",
   "execution_count": 33,
   "id": "8a32ff4b",
   "metadata": {},
   "outputs": [],
   "source": [
    "import time"
   ]
  },
  {
   "cell_type": "code",
   "execution_count": 39,
   "id": "6c154e6f",
   "metadata": {},
   "outputs": [
    {
     "ename": "AttributeError",
     "evalue": "'NoneType' object has no attribute 'send_keys'",
     "output_type": "error",
     "traceback": [
      "\u001b[1;31m---------------------------------------------------------------------------\u001b[0m",
      "\u001b[1;31mAttributeError\u001b[0m                            Traceback (most recent call last)",
      "\u001b[1;32m<ipython-input-39-82f7d4a312b5>\u001b[0m in \u001b[0;36m<module>\u001b[1;34m\u001b[0m\n\u001b[0;32m     11\u001b[0m \u001b[0mpw_box\u001b[0m \u001b[1;33m=\u001b[0m \u001b[0mdriver\u001b[0m\u001b[1;33m.\u001b[0m\u001b[0mfind_element_by_name\u001b[0m\u001b[1;33m(\u001b[0m\u001b[1;34m'password'\u001b[0m\u001b[1;33m)\u001b[0m\u001b[1;33m.\u001b[0m\u001b[0msend_keys\u001b[0m\u001b[1;33m(\u001b[0m\u001b[1;34m'hter4280!@'\u001b[0m\u001b[1;33m)\u001b[0m\u001b[1;33m\u001b[0m\u001b[1;33m\u001b[0m\u001b[0m\n\u001b[0;32m     12\u001b[0m \u001b[1;33m\u001b[0m\u001b[0m\n\u001b[1;32m---> 13\u001b[1;33m \u001b[0mpw_box\u001b[0m\u001b[1;33m.\u001b[0m\u001b[0msend_keys\u001b[0m\u001b[1;33m(\u001b[0m\u001b[0mKeys\u001b[0m\u001b[1;33m.\u001b[0m\u001b[0mENTER\u001b[0m\u001b[1;33m)\u001b[0m\u001b[1;33m\u001b[0m\u001b[1;33m\u001b[0m\u001b[0m\n\u001b[0m",
      "\u001b[1;31mAttributeError\u001b[0m: 'NoneType' object has no attribute 'send_keys'"
     ]
    }
   ],
   "source": [
    "url = 'https://www.instagram.com/'\n",
    "\n",
    "driver = webdriver.Chrome('chromedriver')\n",
    "\n",
    "driver.get(url)\n",
    "\n",
    "driver.implicitly_wait(3) # 서버에서 데이터가 다 불러와질 때까지 최대 3초 / 묵시적 대기. 암시적 대기\n",
    "# time.sleep(3) # 3초 쉬기\n",
    "\n",
    "id_box = driver.find_element_by_name('username').send_keys('')\n",
    "pw_box = driver.find_element_by_name('password').send_keys('')\n",
    "\n",
    "pw_box.send_keys(Keys.ENTER) # 왜 엔터 안 먹지?\n"
   ]
  },
  {
   "cell_type": "code",
   "execution_count": 51,
   "id": "a72c516d",
   "metadata": {},
   "outputs": [],
   "source": [
    "url = 'https://www.naver.com'\n",
    "\n",
    "driver = webdriver.Chrome('chromedriver')\n",
    "\n",
    "driver.get(url)\n",
    "\n",
    "driver.implicitly_wait(15) # 묵시적 대기, 활성화를 최대 15초 대기한다\n",
    "\n",
    "# 네이버에 고슴도치 검색하기\n",
    "search_box = driver.find_element_by_css_selector('input#query')\n",
    "search_box.send_keys('고슴도치')\n",
    "search_box.send_keys(Keys.ENTER)\n",
    "\n",
    "time.sleep(2)\n",
    "\n",
    "# search_btn = driver.find_element_by_css_selector('button#search_btn').click()\n",
    "\n",
    "# 지식백과 고슴도치 클릭\n",
    "posts = driver.find_elements_by_css_selector('a.lnk_tit')\n",
    "posts[0].click()\n"
   ]
  },
  {
   "cell_type": "markdown",
   "id": "5b552e54",
   "metadata": {},
   "source": [
    "### 스타벅스 매장 리스트 크롤링"
   ]
  },
  {
   "cell_type": "code",
   "execution_count": 60,
   "id": "6a903ca5",
   "metadata": {},
   "outputs": [
    {
     "name": "stdout",
     "output_type": "stream",
     "text": [
      "하단중앙  \n",
      "부산광역시 사하구 낙동남로 1411 (하단동)1522-3232\n",
      "\n",
      "부산괴정역  \n",
      "부산광역시 사하구 사하로186번길 6 (괴정동)1522-3232\n",
      "\n",
      "부산동아대  \n",
      "부산광역시 사하구 낙동대로550번길 14 (하단동) 1~3층1522-3232\n",
      "\n",
      "을숙도강변DT  \n",
      "부산광역시 사하구 하신번영로 381-6 (하단동)1522-3232\n",
      "\n",
      "다대포DT  \n",
      "부산광역시 사하구 다대로 493 (다대동)1522-3232\n",
      "\n",
      "부산하단  \n",
      "부산광역시 사하구 낙동대로 455 (하단동)1522-3232\n",
      "\n",
      "다대포비치  \n",
      "부산광역시 사하구 다대로 714 (다대동)1522-3232\n",
      "\n"
     ]
    }
   ],
   "source": [
    "url = 'https://www.starbucks.co.kr/store/store_map.do?disp=locale'\n",
    "\n",
    "driver = webdriver.Chrome('chromedriver')\n",
    "\n",
    "driver.get(url)\n",
    "\n",
    "driver.implicitly_wait(5)\n",
    "\n",
    "mycities = driver.find_elements_by_css_selector('a.set_sido_cd_btn')\n",
    "mycities[5].click()\n",
    "\n",
    "time.sleep(3)\n",
    "\n",
    "guguns = driver.find_elements_by_css_selector('a.set_gugun_cd_btn')\n",
    "guguns[10].click()\n",
    "\n",
    "time.sleep(3)\n",
    "\n",
    "soup = BeautifulSoup(driver.page_source, 'lxml')\n",
    "store = soup.select('ul.quickSearchResultBoxSidoGugun li.quickResultLstCon')\n",
    "\n",
    "\n",
    "for i in store:\n",
    "    title = i.find('strong').text\n",
    "    description = i.find('p').text\n",
    "    print(title)\n",
    "    print(description)\n",
    "    print()\n"
   ]
  },
  {
   "cell_type": "code",
   "execution_count": null,
   "id": "8798dbce",
   "metadata": {},
   "outputs": [],
   "source": []
  }
 ],
 "metadata": {
  "kernelspec": {
   "display_name": "Python 3",
   "language": "python",
   "name": "python3"
  },
  "language_info": {
   "codemirror_mode": {
    "name": "ipython",
    "version": 3
   },
   "file_extension": ".py",
   "mimetype": "text/x-python",
   "name": "python",
   "nbconvert_exporter": "python",
   "pygments_lexer": "ipython3",
   "version": "3.8.8"
  }
 },
 "nbformat": 4,
 "nbformat_minor": 5
}

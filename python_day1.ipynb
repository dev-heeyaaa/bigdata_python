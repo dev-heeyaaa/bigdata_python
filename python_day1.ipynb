{
 "cells": [
  {
   "cell_type": "markdown",
   "metadata": {},
   "source": [
    "## 변수 및 타입 출력"
   ]
  },
  {
   "cell_type": "code",
   "execution_count": 2,
   "metadata": {},
   "outputs": [
    {
     "name": "stdout",
     "output_type": "stream",
     "text": [
      "3\n",
      "3.5\n",
      "hello\n",
      "<class 'int'>\n",
      "<class 'float'>\n",
      "<class 'str'>\n"
     ]
    }
   ],
   "source": [
    "a = 3\n",
    "b = 3.5\n",
    "c = 'hello'\n",
    "\n",
    "print(a)\n",
    "print(b)\n",
    "print(c)\n",
    "\n",
    "print(type(a))\n",
    "print(type(b))\n",
    "print(type(c))"
   ]
  },
  {
   "cell_type": "code",
   "execution_count": 6,
   "metadata": {},
   "outputs": [
    {
     "name": "stdout",
     "output_type": "stream",
     "text": [
      "<class 'int'>\n",
      "<class 'int'>\n",
      "7\n",
      "3\n",
      "10\n",
      "2.5\n",
      "2\n",
      "1\n"
     ]
    }
   ],
   "source": [
    "a = 5\n",
    "b = 2\n",
    "\n",
    "print(type(a))\n",
    "print(type(b))\n",
    "\n",
    "print(a + b) # 합\n",
    "print(a - b) # 차\n",
    "print(a * b) # 곱\n",
    "print(a / b) # 나누기\n",
    "print(a // b) # 몫\n",
    "print(a % b) # 나머지"
   ]
  },
  {
   "cell_type": "code",
   "execution_count": 7,
   "metadata": {},
   "outputs": [
    {
     "name": "stdout",
     "output_type": "stream",
     "text": [
      "9\n",
      "3\n"
     ]
    }
   ],
   "source": [
    "a = 2\n",
    "b = 3\n",
    "c = 4\n",
    "\n",
    "print(a + b + c)\n",
    "print((a + b + c)//3)"
   ]
  },
  {
   "cell_type": "code",
   "execution_count": 10,
   "metadata": {},
   "outputs": [
    {
     "name": "stdout",
     "output_type": "stream",
     "text": [
      "c가 가장 큼\n",
      "if문과 상관없이 항상 실행\n"
     ]
    }
   ],
   "source": [
    "a = 6\n",
    "b = 8\n",
    "c = 10\n",
    "\n",
    "if a > b and a > c :\n",
    "    print(\"a가 가장 큼\")\n",
    "    \n",
    "elif b > a and b > c :\n",
    "    print('b가 가장 큼')\n",
    "    \n",
    "else :\n",
    "    print('c가 가장 큼')\n",
    "    \n",
    "print('if문과 상관없이 항상 실행')"
   ]
  },
  {
   "cell_type": "code",
   "execution_count": 12,
   "metadata": {},
   "outputs": [
    {
     "name": "stdout",
     "output_type": "stream",
     "text": [
      "77.0\n",
      "C\n"
     ]
    }
   ],
   "source": [
    "# 문제\n",
    "# 국어, 영어, 수학 점수의 평균이\n",
    "# 90 이상이면 A\n",
    "# 80 이상이면 B\n",
    "# 70 이상이면 C\n",
    "# 나머지는 D를 출력\n",
    "\n",
    "# 45, 67, 89\n",
    "\n",
    "kor = 75\n",
    "eng = 67\n",
    "math = 89\n",
    "\n",
    "avg = (kor + eng + math)/3\n",
    "\n",
    "print(avg)\n",
    "\n",
    "if avg >= 90 :\n",
    "    print('A')\n",
    "\n",
    "elif avg >= 80 :\n",
    "    print('B')\n",
    "    \n",
    "elif avg >= 70 :\n",
    "    print('C')\n",
    "    \n",
    "else :\n",
    "    print('D')"
   ]
  },
  {
   "cell_type": "code",
   "execution_count": 15,
   "metadata": {},
   "outputs": [
    {
     "name": "stdout",
     "output_type": "stream",
     "text": [
      "숫자를 입력하세요5\n",
      "5\n",
      "<class 'int'>\n"
     ]
    }
   ],
   "source": [
    "a = int(input('숫자를 입력하세요'))\n",
    "print(a)\n",
    "print(type(a))"
   ]
  },
  {
   "cell_type": "code",
   "execution_count": 17,
   "metadata": {},
   "outputs": [
    {
     "name": "stdout",
     "output_type": "stream",
     "text": [
      "숫자를 입력하세요7\n",
      "5의 배수가 아닙니다.\n"
     ]
    }
   ],
   "source": [
    "# 문제 5의 배수인지 아닌지 확인\n",
    "a = int(input('숫자를 입력하세요'))\n",
    "\n",
    "if a % 5 == 0 : # == 같은가? != 다른가?\n",
    "    print('5의 배수입니다.')\n",
    "    \n",
    "else :\n",
    "    print('5의 배수가 아닙니다.')"
   ]
  },
  {
   "cell_type": "code",
   "execution_count": 20,
   "metadata": {},
   "outputs": [
    {
     "name": "stdout",
     "output_type": "stream",
     "text": [
      "hello world : 0\n",
      "hello world : 2\n",
      "hello world : 4\n",
      "hello world : 6\n",
      "hello world : 8\n",
      "10\n",
      "8\n",
      "6\n",
      "4\n",
      "2\n"
     ]
    }
   ],
   "source": [
    "# 반복문\n",
    "# range(0, 10, 2) (시작숫자, 종료숫자, 증감값)\n",
    "for i in range(0, 10, 2) :\n",
    "    print('hello world : ' + str(i))\n",
    "    \n",
    "for i in range(10, 0, -2) :\n",
    "    print(i)"
   ]
  },
  {
   "cell_type": "code",
   "execution_count": 27,
   "metadata": {},
   "outputs": [
    {
     "name": "stdout",
     "output_type": "stream",
     "text": [
      "1 2 3 4 5 "
     ]
    }
   ],
   "source": [
    "# 문제 숫자 2개를 정해서 그 사이의 숫자를 출력하시오\n",
    "# ex) 5 1 => 1 2 3 4 5\n",
    "\n",
    "a = 5\n",
    "b = 1\n",
    "\n",
    "if a > b :\n",
    "    for i in range(b, a + 1, 1) :\n",
    "        print(i, end = ' ')\n",
    "        \n",
    "else :\n",
    "    for i in range(a, b + 1, 1) :\n",
    "        print(i, end = ' ')"
   ]
  },
  {
   "cell_type": "code",
   "execution_count": 32,
   "metadata": {},
   "outputs": [
    {
     "name": "stdout",
     "output_type": "stream",
     "text": [
      "3 + 4 = 7\n",
      "3 + 4 = 7\n",
      "3 + 4 = 7\n"
     ]
    }
   ],
   "source": [
    "# 출력 포맷 설정하기\n",
    "a = 3\n",
    "b = 4\n",
    "print('%d + %d = %d'%(a, b, a+b))\n",
    "print('{0} + {1} = {2}'.format(a, b, (a + b)))\n",
    "print(f'{a} + {b} = {a + b}')"
   ]
  },
  {
   "cell_type": "code",
   "execution_count": 34,
   "metadata": {},
   "outputs": [
    {
     "name": "stdout",
     "output_type": "stream",
     "text": [
      "1-X\n",
      "2-X\n",
      "3-3\n",
      "4-X\n",
      "5-5\n",
      "6-3\n",
      "7-X\n",
      "8-X\n",
      "9-3\n",
      "10-5\n",
      "11-X\n",
      "12-3\n",
      "13-X\n",
      "14-X\n",
      "15-35\n",
      "16-X\n"
     ]
    }
   ],
   "source": [
    "# 숫자 1개를 입력 받아서 3의 배수, 5의 배수, 3,5의\n",
    "# 배수를 출력하시오\n",
    "\n",
    "# ex) 16을 입력했을 경우\n",
    "# 1 - X\n",
    "# 2 - X\n",
    "# 3 - 3\n",
    "# 4 - X\n",
    "# 5 - 5\n",
    "# 6 - 3\n",
    "# ......\n",
    "# 15 - 35\n",
    "# 16 - X\n",
    "\n",
    "a = 16\n",
    "\n",
    "for i in range(1, a + 1) :\n",
    "    if i % 3 == 0 and i % 5 == 0 :\n",
    "        print('{}-{}'.format(i, '35'))\n",
    "        \n",
    "    elif i % 3 == 0 :\n",
    "        print('{}-{}'.format(i, '3'))\n",
    "        \n",
    "    elif i % 5 == 0 :\n",
    "        print('{}-{}'.format(i, '5'))\n",
    "        \n",
    "    else :\n",
    "        print('{}-{}'.format(i, 'X'))"
   ]
  },
  {
   "cell_type": "code",
   "execution_count": 36,
   "metadata": {},
   "outputs": [
    {
     "name": "stdout",
     "output_type": "stream",
     "text": [
      "5\n"
     ]
    }
   ],
   "source": [
    "# 1부터 10까지 짝수 구하기\n",
    "a = 0\n",
    "\n",
    "for i in range(1, 11) :\n",
    "    if i % 2 == 0 :\n",
    "#         a = a + 1\n",
    "        a += 1\n",
    "\n",
    "print(a)"
   ]
  },
  {
   "cell_type": "code",
   "execution_count": 38,
   "metadata": {},
   "outputs": [
    {
     "name": "stdout",
     "output_type": "stream",
     "text": [
      "개수는 3\n"
     ]
    }
   ],
   "source": [
    "# 숫자 1개를 입력받아서 끝자리가 3과 7인 숫자의 개수를\n",
    "# 구하시오\n",
    "# ex) a = 13\n",
    "# 1 2 3 4 5 6 7 8 9 10 11 12 13 => 3\n",
    "\n",
    "a = 13\n",
    "b = 0\n",
    "\n",
    "for i in range(1, a + 1) :\n",
    "    if i % 10 == 3 or i % 10 == 7 :\n",
    "#         b = b + 1\n",
    "        b += 1\n",
    "        \n",
    "print(f'개수는 {b}')"
   ]
  },
  {
   "cell_type": "code",
   "execution_count": null,
   "metadata": {},
   "outputs": [],
   "source": []
  }
 ],
 "metadata": {
  "kernelspec": {
   "display_name": "Python 3",
   "language": "python",
   "name": "python3"
  },
  "language_info": {
   "codemirror_mode": {
    "name": "ipython",
    "version": 3
   },
   "file_extension": ".py",
   "mimetype": "text/x-python",
   "name": "python",
   "nbconvert_exporter": "python",
   "pygments_lexer": "ipython3",
   "version": "3.8.8"
  }
 },
 "nbformat": 4,
 "nbformat_minor": 4
}
